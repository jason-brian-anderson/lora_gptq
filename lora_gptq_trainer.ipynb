{
 "cells": [
  {
   "cell_type": "markdown",
   "id": "78437d00-0dfd-420f-9d1d-accf9a2cde82",
   "metadata": {},
   "source": [
    "The goal of this notebook is to distill down the essential compenents of training HF models in a way that is easy to port to a data pipeline and apply to new model training scenarios."
   ]
  },
  {
   "cell_type": "markdown",
   "id": "3ff4105b-66b9-43ed-81d8-9769e56f1df8",
   "metadata": {},
   "source": [
    "# Imports"
   ]
  },
  {
   "cell_type": "code",
   "execution_count": 1,
   "id": "04e878bb-37eb-4914-949e-1992fae4c8ff",
   "metadata": {},
   "outputs": [
    {
     "name": "stdout",
     "output_type": "stream",
     "text": [
      "1.26.1\n",
      "0.16.0\n",
      "4.34.1\n",
      "8.16.1\n",
      "0.5.0\n"
     ]
    }
   ],
   "source": [
    "import numpy as np\n",
    "import wandb\n",
    "import transformers\n",
    "import IPython\n",
    "import peft\n",
    "print(np.__version__)\n",
    "print(wandb.__version__)\n",
    "print(transformers.__version__)\n",
    "print(IPython.__version__)\n",
    "print(peft.__version__)"
   ]
  },
  {
   "cell_type": "code",
   "execution_count": 2,
   "id": "5186aef3-01b0-4a1f-ad6e-9c99d46ca824",
   "metadata": {},
   "outputs": [],
   "source": [
    "#from huggingface_hub import login\n",
    "import os\n",
    "import pandas as pd\n",
    "from rich import print\n",
    "import torch\n",
    "from transformers import AutoModelForCausalLM, AutoTokenizer, BitsAndBytesConfig\n",
    "\n",
    "pd.set_option('display.max_colwidth', None)"
   ]
  },
  {
   "cell_type": "markdown",
   "id": "f4f647f4-e46c-4b7d-bb28-4e11e6d632ab",
   "metadata": {},
   "source": [
    "# Define variables"
   ]
  },
  {
   "cell_type": "code",
   "execution_count": 3,
   "id": "b85d9c78-ef0c-4d91-a9df-bd9c799da50f",
   "metadata": {},
   "outputs": [],
   "source": [
    "seed = 42 #reproducability  over training runs\n",
    "clobber_project_dir = False #wipe the project director clean\n",
    "project_dir = \"chat_summarizer\" #project name, also used as wandb project name\n",
    "\n",
    "#creds\n",
    "hf_token = os.environ[\"HF_TOKEN\"]\n",
    "wandb_key = os.environ[\"WANDB_KEY\"]\n",
    "hf_account_name = os.environ[\"HF_ACCOUNT_NAME\"]\n",
    "\n",
    "#HF touchpoints\n",
    "hf_dataset_name = \"knkarthick/dialogsum\"\n",
    "source_hf_model_name = \"meta-llama/Llama-2-7b-hf\"\n",
    "destination_hf_model_name = f\"{hf_account_name}/llama2-7b-dialogsum-qlora-gptq\"\n",
    "checkpoint_dir = \"best_checkpoint\"\n",
    "quantization_dir = 'quantized_8bit'\n",
    "merged_dir = 'merged_model'\n",
    "quantized_train_dir = 'quant_trained_model_new'\n",
    "project_path = os.path.join(project_dir, checkpoint_dir)\n",
    "quant_path = os.path.join(project_dir, quantization_dir)\n",
    "quantized_train_path = os.path.join(project_dir, quantized_train_dir)\n",
    "\n",
    "train_test_split_ratio = 0.1\n",
    "\n",
    "#LoRA hparams\n",
    "lora_r = 64  # rank\n",
    "lora_alpha = lora_r * 2\n",
    "lora_dropout = 0.05\n",
    "\n",
    "#training hparams\n",
    "epochs = 2\n",
    "per_device_train_batch_size=8\n",
    "gradient_accumulation_steps=4\n",
    "early_stopping_patience = 3\n",
    "learning_rate = 3e-4\n",
    "logging_steps = 25\n",
    "device = \"cuda\"\n",
    "max_training_sample_length = 2048\n",
    "\n",
    "#quantization params\n",
    "quantization_bits = 8"
   ]
  },
  {
   "cell_type": "markdown",
   "id": "35d0fc97-fbe3-4097-9751-3feafcbf218b",
   "metadata": {},
   "source": [
    "## State of working directory"
   ]
  },
  {
   "cell_type": "code",
   "execution_count": 4,
   "id": "07ffbb7b-ca53-4226-a31f-407e141bc587",
   "metadata": {},
   "outputs": [
    {
     "data": {
      "text/html": [
       "<pre style=\"white-space:pre;overflow-x:auto;line-height:normal;font-family:Menlo,'DejaVu Sans Mono',consolas,'Courier New',monospace\">chat_summarizer\n",
       "</pre>\n"
      ],
      "text/plain": [
       "chat_summarizer\n"
      ]
     },
     "metadata": {},
     "output_type": "display_data"
    },
    {
     "name": "stdout",
     "output_type": "stream",
     "text": [
      "total 0\n",
      "0 drwxr-xr-x 1 root root 4096 Nov  5 04:48 runs\n",
      "0 drwxr-xr-x 1 root root 4096 Nov  5 10:18 checkpoint-500\n",
      "0 drwxr-xr-x 1 root root 4096 Nov  5 12:28 best_checkpoint\n",
      "0 drwxr-xr-x 1 root root 4096 Nov  5 17:35 quantized\n",
      "0 drwxr-xr-x 1 root root 4096 Nov  6 08:53 quantized_8bit\n",
      "0 drwxr-xr-x 1 root root 4096 Nov  6 21:07 quant_trained_model\n",
      "0 drwxr-xr-x 1 root root 4096 Nov  8 18:09 quant_trained_model1\n",
      "0 drwxr-xr-x 1 root root 4096 Nov  9 04:01 .\n",
      "0 drwxr-xr-x 1 root root 4096 Nov  9 04:07 quant_trained_model_new\n",
      "0 drwxr-xr-x 1 root root 4096 Nov  9 05:01 ..\n"
     ]
    }
   ],
   "source": [
    "print(project_dir)\n",
    "!mkdir -p $project_dir\n",
    "\n",
    "#Set clobber_project_dir to True to reset working directory\n",
    "if clobber_project_dir:\n",
    "    !rm -rf ./$project_dir\n",
    "\n",
    "!ls -latrs ./$project_dir"
   ]
  },
  {
   "cell_type": "markdown",
   "id": "a77d175a-1860-4ae4-a387-97981d2b3466",
   "metadata": {},
   "source": [
    "## Initiate wandb"
   ]
  },
  {
   "cell_type": "code",
   "execution_count": 5,
   "id": "256352b0-c7c7-45a3-9e5a-2e25fcae01cf",
   "metadata": {},
   "outputs": [
    {
     "name": "stderr",
     "output_type": "stream",
     "text": [
      "\u001b[34m\u001b[1mwandb\u001b[0m: Currently logged in as: \u001b[33mjason-anderson-professional\u001b[0m. Use \u001b[1m`wandb login --relogin`\u001b[0m to force relogin\n",
      "\u001b[34m\u001b[1mwandb\u001b[0m: \u001b[33mWARNING\u001b[0m If you're specifying your api key in code, ensure this code is not shared publicly.\n",
      "\u001b[34m\u001b[1mwandb\u001b[0m: \u001b[33mWARNING\u001b[0m Consider setting the WANDB_API_KEY environment variable, or running `wandb login` from the command line.\n",
      "\u001b[34m\u001b[1mwandb\u001b[0m: Appending key for api.wandb.ai to your netrc file: /root/.netrc\n"
     ]
    },
    {
     "data": {
      "text/html": [
       "Tracking run with wandb version 0.16.0"
      ],
      "text/plain": [
       "<IPython.core.display.HTML object>"
      ]
     },
     "metadata": {},
     "output_type": "display_data"
    },
    {
     "data": {
      "text/html": [
       "Run data is saved locally in <code>/app/jupyter/lora_gptq/wandb/run-20231109_050151-7boor3m0</code>"
      ],
      "text/plain": [
       "<IPython.core.display.HTML object>"
      ]
     },
     "metadata": {},
     "output_type": "display_data"
    },
    {
     "data": {
      "text/html": [
       "Syncing run <strong><a href='https://wandb.ai/jason-anderson-professional/chat_summarizer/runs/7boor3m0' target=\"_blank\">divine-shadow-38</a></strong> to <a href='https://wandb.ai/jason-anderson-professional/chat_summarizer' target=\"_blank\">Weights & Biases</a> (<a href='https://wandb.me/run' target=\"_blank\">docs</a>)<br/>"
      ],
      "text/plain": [
       "<IPython.core.display.HTML object>"
      ]
     },
     "metadata": {},
     "output_type": "display_data"
    },
    {
     "data": {
      "text/html": [
       " View project at <a href='https://wandb.ai/jason-anderson-professional/chat_summarizer' target=\"_blank\">https://wandb.ai/jason-anderson-professional/chat_summarizer</a>"
      ],
      "text/plain": [
       "<IPython.core.display.HTML object>"
      ]
     },
     "metadata": {},
     "output_type": "display_data"
    },
    {
     "data": {
      "text/html": [
       " View run at <a href='https://wandb.ai/jason-anderson-professional/chat_summarizer/runs/7boor3m0' target=\"_blank\">https://wandb.ai/jason-anderson-professional/chat_summarizer/runs/7boor3m0</a>"
      ],
      "text/plain": [
       "<IPython.core.display.HTML object>"
      ]
     },
     "metadata": {},
     "output_type": "display_data"
    }
   ],
   "source": [
    "import wandb\n",
    "\n",
    "wandb.login(key = wandb_key)\n",
    "run = wandb.init(project=project_dir, job_type=\"training\", anonymous=\"allow\")"
   ]
  },
  {
   "cell_type": "markdown",
   "id": "b98c44be-3cb1-45d4-ba26-5fa6a1e39e46",
   "metadata": {},
   "source": [
    "# Process data for training"
   ]
  },
  {
   "cell_type": "code",
   "execution_count": 6,
   "id": "274adcda-c2a1-4524-b964-75b69186daa3",
   "metadata": {},
   "outputs": [],
   "source": [
    "import matplotlib.pyplot as plt\n",
    "import numpy as np\n",
    "import pandas as pd\n",
    "import seaborn as sns\n",
    "from matplotlib.ticker import MaxNLocator\n",
    "\n",
    "\n",
    "def analyze_generation_params(text):\n",
    "    print(text,\"-\"*60)\n",
    "    results = []\n",
    "    for temp in np.linspace(.5,1.5,num = 5):\n",
    "        print(f\"temp {temp}:\",end=\"\")\n",
    "        results.append(generate(text, persisted_model, prompt=False, max_new_tokens=185,temp=temp))\n",
    "    \n",
    "    print(\"-\"*60)\n",
    "    results = []\n",
    "    for top_p in np.linspace(0,1,num = 11):\n",
    "        print(f\"top_p {top_p}:\",end=\"\")\n",
    "        results.append(generate(text, persisted_model, prompt=False, max_new_tokens=185,temp=.7, top_p=top_p))\n",
    "    \n",
    "    \n",
    "    print(\"-\"*60)\n",
    "    results = []\n",
    "    for top_k in np.linspace(0,100,num = 11,dtype=int):\n",
    "        print(f\"top_k {top_k}:\",end=\"\")\n",
    "        results.append(generate(text, persisted_model, prompt=False, max_new_tokens=185, top_k=int(top_k)))\n",
    "    \n",
    "    print(\"-\"*60)\n",
    "    results = []\n",
    "    for do_sample in [True,False]:\n",
    "        print(f\"do_sample {do_sample}:\",end=\"\")\n",
    "        results.append(generate(text, persisted_model, prompt=False, max_new_tokens=185, do_sample = do_sample, top_k=None))\n",
    "    \n",
    "    \n",
    "    print(\"-\"*60)\n",
    "    results = []\n",
    "    for repetition_penalty in np.linspace(1.,2.,num=11):\n",
    "        print(f\"repetition_penalty {repetition_penalty}:\",end=\"\")\n",
    "        results.append(generate(text, persisted_model, prompt=False, max_new_tokens=48,repetition_penalty=repetition_penalty))\n",
    "    \n",
    "    print(\"-\"*60)\n",
    "    results = []\n",
    "    for typical_p in np.linspace(.1,.9,num=9):\n",
    "        print(f\"typical_p {typical_p}:\",end=\"\")\n",
    "        results.append(generate(text, persisted_model, prompt=False, max_new_tokens=48,typical_p=typical_p))\n",
    "\n",
    "\n",
    "def generate(text, model, prompt=False, temp=0.7,top_k= 40, top_p = 0.1, do_sample = True, repetition_penalty = 1.23, typical_p = 1, guidance_scale = 1, max_new_tokens = 24,):\n",
    "    from transformers import TextStreamer\n",
    "    if prompt:\n",
    "        print(text,\"-\"*20)\n",
    "    streamer = TextStreamer(tokenizer, skip_prompt=True, skip_special_tokens=False)\n",
    "    inputs = tokenizer(text, return_tensors=\"pt\").to('cuda')\n",
    "\n",
    "    # Call the generate method of the model with the given inputs and additional generation configurations.\n",
    "    outputs = model.generate(**inputs,  # \"inputs\" likely includes input_ids or prompts for generation.\n",
    "                           streamer=streamer,  # \"streamer\" not a standard parameter in HF documentation, likely custom for model-specific streaming.\n",
    "                           max_new_tokens=max_new_tokens,  # Sets the maximum number of new tokens to generate; range varies based on model and computational limits.\n",
    "                           temperature=temp,  # Controls randomness: lower->more deterministic, higher->more random; typically in range [0.5, 1.5].\n",
    "                           do_sample=do_sample,  # Enables sampling; when True, picks tokens based on probability distribution, rather than just most likely.\n",
    "                           top_p=top_p,  # Nucleus sampling: selects top p% probability tokens for sampling; range [0, 1].\n",
    "                           top_k=top_k,  # Top-k sampling: chooses from top k probability tokens; if k=0, it's the same as using no top-k.\n",
    "                           repetition_penalty=repetition_penalty,  # Penalizes repeated tokens; >1 discourages, <1 encourages repetition; typically close to 1.\n",
    "                           typical_p=typical_p,  # Typical sampling; selects tokens whose cumulative probability is above this threshold, range [0, 1], usually close to 1.\n",
    "                           guidance_scale=guidance_scale,  # Affects the scale of guidance in models that support it, like CTRL; standard range not well-defined.\n",
    "                           #seed=seed,  # Sets a seed for reproducibility; commented out, so not in use.\n",
    "                          )\n",
    "    generated_tokens = outputs[0].tolist()[len(inputs[0]):]\n",
    "    result = tokenizer.decode(generated_tokens)\n",
    "    return result\n",
    "\n",
    "def set_plot_appearance(fontsize_title=14, \n",
    "                        fontsize_label=12, \n",
    "                        fontsize_ticks=8, \n",
    "                        theme='dark'):\n",
    "    \"\"\"\n",
    "    Configure the plot's appearance with font sizes and theme for dark backgrounds.\n",
    "    \n",
    "    Parameters:\n",
    "    fontsize_title: Font size for the title.\n",
    "    fontsize_label: Font size for the x and y labels.\n",
    "    fontsize_ticks: Font size for the x and y tick labels.\n",
    "    theme: Seaborn theme for the plot's aesthetic style.\n",
    "    \"\"\"\n",
    "    sns.set_theme(style=theme, palette='pastel')\n",
    "    \n",
    "    plt.rcParams.update({\n",
    "        'figure.facecolor': '#1a1a1a',  # Very dark grey background for the figure\n",
    "        'axes.facecolor': '#1a1a1a',    # Very dark grey background for the plots\n",
    "        'grid.color': 'gray',           # Lighter grey grid lines (less contrast)\n",
    "        'text.color': 'white',          # White text for better contrast on dark bg\n",
    "        'axes.labelcolor': 'white',     # White labels for axes\n",
    "        'xtick.color': 'white',         # White x-tick labels\n",
    "        'ytick.color': 'white',         # White y-tick labels\n",
    "        'axes.labelsize': fontsize_label,\n",
    "        'axes.titlesize': fontsize_title,\n",
    "        'xtick.labelsize': fontsize_ticks,\n",
    "        'ytick.labelsize': fontsize_ticks,\n",
    "        'legend.title_fontsize': fontsize_ticks + 2,\n",
    "        'legend.fontsize': fontsize_ticks,\n",
    "        'axes.edgecolor': 'lightgrey',  # Light grey color for the axes' spines\n",
    "    })\n",
    "# Possible modern themes: 'darkgrid', 'whitegrid', 'dark', 'white', and 'ticks'.\n",
    "# Example usage: set_plot_appearance(theme='ticks')\n",
    "\n",
    "def plot_text_length_histogram(df, bucket_size=64, percentile=95):\n",
    "    \"\"\"\n",
    "    Plot a histogram of text lengths and indicate the percentile.\n",
    "\n",
    "    Parameters:\n",
    "    df: the pandas dataframe to render from\n",
    "    bucket_size: the number of characters to bucket the histogram with\n",
    "    percentile: draws a vertical line at this percentile to visualize whether an acceptable fraction of the data lenghts are being used for training set\n",
    "    \"\"\"\n",
    "    set_plot_appearance()  # Apply appearance settings to the plot\n",
    "    text_lengths = df['text'].apply(len)  # Calculate text lengths.\n",
    "    bins = range(0, max(text_lengths) + bucket_size, bucket_size)  # Define histogram bins.\n",
    "    percentile_value = np.percentile(text_lengths, percentile)  # Calculate percentile value.\n",
    "\n",
    "    fig, ax = plt.subplots()  # Create figure and axis objects.\n",
    "    ax.hist(text_lengths, bins=bins, edgecolor='black', alpha=0.7)  # Plot histogram.\n",
    "    ax.axvline(x=percentile_value, color='red', linestyle='--')  # Draw percentile line.\n",
    "    \n",
    "    # Annotate the percentile line.\n",
    "    ax.text(percentile_value, ax.get_ylim()[1]*0.9, f' {percentile}th Percentile: {int(round(percentile_value, -1))}',\n",
    "            color='red', ha='left')\n",
    "\n",
    "    ax.set_xlabel('Text Length')  # Set x-axis label.\n",
    "    ax.set_ylabel('Frequency')  # Set y-axis label.\n",
    "    ax.set_title('Histogram of Text Lengths')  # Set title.\n",
    "\n",
    "    ax.xaxis.set_major_locator(MaxNLocator(integer=True))  # Set major locator for x-axis.\n",
    "    plt.show()  # Display the plot.\n",
    "\n",
    "def visualize_train_test_category_splits(train_df, test_df, top_x=5, normalize=True):\n",
    "    \"\"\"\n",
    "    Visualize the frequency of top categories in training and test datasets.\n",
    "    \"\"\"\n",
    "    set_plot_appearance()  # Apply appearance settings to the plot\n",
    "\n",
    "    # Get top x categories from both datasets.\n",
    "    train_topic_norm = train_df['topic'].value_counts(normalize=normalize).head(top_x)\n",
    "    test_topic_norm = test_df['topic'].value_counts(normalize=normalize).head(top_x)\n",
    "    \n",
    "    # Prepare the data for plotting.\n",
    "    train_topics = pd.DataFrame({'topic': train_topic_norm.index, 'frequency': train_topic_norm.values, 'dataset': 'Training'})\n",
    "    test_topics = pd.DataFrame({'topic': test_topic_norm.index, 'frequency': test_topic_norm.values, 'dataset': 'Test'})\n",
    "    combined_topics = pd.concat([train_topics, test_topics])\n",
    "\n",
    "    sns.barplot(x='frequency', y='topic', hue='dataset', data=combined_topics)  # Create bar plot.\n",
    "    plt.title('Top {} Topics Frequency Comparison'.format(top_x))  # Set title.\n",
    "    plt.xlabel('Normalized Frequency')  # Set x-axis label.\n",
    "    plt.ylabel('Topic')  # Set y-axis label.\n",
    "    plt.tight_layout()  # Adjust layout.\n",
    "    plt.show()  # Display the plot.\n",
    "\n",
    "\n",
    "\n",
    "def get_data_stuff(dataset_name, split_ratio=0.2):    \n",
    "    # %%\n",
    "    from datasets import load_dataset\n",
    "    from datasets import Dataset\n",
    "    import pandas as pd\n",
    "    pd.set_option('display.max_colwidth', None)\n",
    "    \n",
    "    \n",
    "    #load the dataset\n",
    "    dataset = load_dataset(dataset_name)\n",
    "    \n",
    "    # Shuffle the dataset (setting seed for reproducibility)\n",
    "    shuffled_ds = dataset['train']#.shuffle(seed=seed)\n",
    "    #shuffled_ds = shuffled_ds.select(range(1000))\n",
    "\n",
    "    \n",
    "    # Split the dataset into training and test sets with a test size of 20%\n",
    "    train_test_split = shuffled_ds.train_test_split(test_size=train_test_split_ratio, seed = seed)\n",
    "    \n",
    "    # The train/test datasets are now accessible as follows:\n",
    "    train_ds = train_test_split['train']\n",
    "    raw_train_df = pd.DataFrame(train_ds)\n",
    "    \n",
    "    test_ds = train_test_split['test']\n",
    "    raw_test_df = pd.DataFrame(test_ds)\n",
    "    \n",
    "    prepared_train_df = prepare_dataset(raw_train_df, \"train\")\n",
    "    prepared_test_df = prepare_dataset(raw_test_df, \"test\")\n",
    "\n",
    "    prepared_train_dataset = Dataset.from_pandas(prepared_train_df)\n",
    "    prepared_test_dataset = Dataset.from_pandas(prepared_test_df)\n",
    "    \n",
    "    print(f\"length of downloaded ds: {len(shuffled_ds)}\")\n",
    "    print(f\"length of train_ds: {len(prepared_train_dataset)}\")\n",
    "    print(f\"length of test_ds: {len(prepared_test_dataset)}\")\n",
    "    estimated_training_steps = epochs * len(prepared_train_dataset) / per_device_train_batch_size / gradient_accumulation_steps\n",
    "    print(f\"estimated training steps will be {estimated_training_steps}\")\n",
    "    return prepared_train_df, prepared_test_df, prepared_train_dataset, prepared_test_dataset\n",
    "\n",
    "\n",
    "def prepare_dataset(df, split=\"train\"):\n",
    "    text_col = []\n",
    "    instruction = \"\"\"Write a concise summary of the below input text.Ensure that responses covers the key points of the text.Only provide full sentence responses.\"\"\"  # change instuction according to the task\n",
    "    if split == \"train\":\n",
    "        for _, row in df.iterrows():\n",
    "            input_q = row[\"dialogue\"]\n",
    "            output = row[\"summary\"]\n",
    "            text = (\n",
    "                \"### Instruction: \\n\"\n",
    "                + instruction\n",
    "                + \"\\n### Input: \\n\"\n",
    "                + input_q\n",
    "                + \"\\n### Response :\\n\"\n",
    "                + output\n",
    "                + \"\\n### End\"\n",
    "            )  # keeping output column in training dataset\n",
    "            text_col.append(text)\n",
    "        df.loc[:, \"text\"] = text_col\n",
    "    else:\n",
    "        for _, row in df.iterrows():\n",
    "            input_q = row[\"dialogue\"]\n",
    "            text = (\n",
    "                \"### Instruction: \\n\"\n",
    "                + instruction\n",
    "                + \"\\n### Input: \\n\"\n",
    "                + input_q\n",
    "                + \"\\n### Response :\\n\"\n",
    "            )  # not keeping output column in test dataset\n",
    "            text_col.append(text)\n",
    "        df.loc[:, \"text\"] = text_col\n",
    "    return df\n",
    "\n"
   ]
  },
  {
   "cell_type": "code",
   "execution_count": 7,
   "id": "2a764bbf-2d24-410d-9356-68f2153af13e",
   "metadata": {},
   "outputs": [
    {
     "data": {
      "text/html": [
       "<pre style=\"white-space:pre;overflow-x:auto;line-height:normal;font-family:Menlo,'DejaVu Sans Mono',consolas,'Courier New',monospace\">length of downloaded ds: <span style=\"color: #008080; text-decoration-color: #008080; font-weight: bold\">12460</span>\n",
       "</pre>\n"
      ],
      "text/plain": [
       "length of downloaded ds: \u001b[1;36m12460\u001b[0m\n"
      ]
     },
     "metadata": {},
     "output_type": "display_data"
    },
    {
     "data": {
      "text/html": [
       "<pre style=\"white-space:pre;overflow-x:auto;line-height:normal;font-family:Menlo,'DejaVu Sans Mono',consolas,'Courier New',monospace\">length of train_ds: <span style=\"color: #008080; text-decoration-color: #008080; font-weight: bold\">11214</span>\n",
       "</pre>\n"
      ],
      "text/plain": [
       "length of train_ds: \u001b[1;36m11214\u001b[0m\n"
      ]
     },
     "metadata": {},
     "output_type": "display_data"
    },
    {
     "data": {
      "text/html": [
       "<pre style=\"white-space:pre;overflow-x:auto;line-height:normal;font-family:Menlo,'DejaVu Sans Mono',consolas,'Courier New',monospace\">length of test_ds: <span style=\"color: #008080; text-decoration-color: #008080; font-weight: bold\">1246</span>\n",
       "</pre>\n"
      ],
      "text/plain": [
       "length of test_ds: \u001b[1;36m1246\u001b[0m\n"
      ]
     },
     "metadata": {},
     "output_type": "display_data"
    },
    {
     "data": {
      "text/html": [
       "<pre style=\"white-space:pre;overflow-x:auto;line-height:normal;font-family:Menlo,'DejaVu Sans Mono',consolas,'Courier New',monospace\">estimated training steps will be <span style=\"color: #008080; text-decoration-color: #008080; font-weight: bold\">700.875</span>\n",
       "</pre>\n"
      ],
      "text/plain": [
       "estimated training steps will be \u001b[1;36m700.875\u001b[0m\n"
      ]
     },
     "metadata": {},
     "output_type": "display_data"
    }
   ],
   "source": [
    "train_df, test_df, train_dataset, test_dataset = get_data_stuff(hf_dataset_name, \n",
    "                                                                split_ratio=train_test_split_ratio,\n",
    "                                                               )\n",
    "text = test_df['text'][1]"
   ]
  },
  {
   "cell_type": "code",
   "execution_count": 8,
   "id": "46b9d045-f3df-45b3-beea-92336c089d1c",
   "metadata": {},
   "outputs": [
    {
     "data": {
      "text/html": [
       "<pre style=\"white-space:pre;overflow-x:auto;line-height:normal;font-family:Menlo,'DejaVu Sans Mono',consolas,'Courier New',monospace\">### Instruction: \n",
       "Write a concise summary of the below input text.Ensure that responses covers the key points of the text.Only \n",
       "provide full sentence responses.\n",
       "### Input: \n",
       "#Person1#: Mister Ewing said we should show up at the conference center at <span style=\"color: #00ff00; text-decoration-color: #00ff00; font-weight: bold\">4:00</span> o'clock, right?\n",
       "#Person2#: Yes, he especially asked us not to be late. Some of the people from our east york branch office are \n",
       "coming, and he wants to make a good impression on them. How are you getting there?\n",
       "#Person1#: I was thinking of taking my car, but I think I'm just going to take the underground, because there is \n",
       "construction on the highway. What about you?\n",
       "#Person2#: I'll be taking the underground as well. Why don't we go together? I've been to the conference center \n",
       "only once, and I'm not sure if I can find my way around there.\n",
       "### Response :\n",
       "\n",
       "</pre>\n"
      ],
      "text/plain": [
       "### Instruction: \n",
       "Write a concise summary of the below input text.Ensure that responses covers the key points of the text.Only \n",
       "provide full sentence responses.\n",
       "### Input: \n",
       "#Person1#: Mister Ewing said we should show up at the conference center at \u001b[1;92m4:00\u001b[0m o'clock, right?\n",
       "#Person2#: Yes, he especially asked us not to be late. Some of the people from our east york branch office are \n",
       "coming, and he wants to make a good impression on them. How are you getting there?\n",
       "#Person1#: I was thinking of taking my car, but I think I'm just going to take the underground, because there is \n",
       "construction on the highway. What about you?\n",
       "#Person2#: I'll be taking the underground as well. Why don't we go together? I've been to the conference center \n",
       "only once, and I'm not sure if I can find my way around there.\n",
       "### Response :\n",
       "\n"
      ]
     },
     "metadata": {},
     "output_type": "display_data"
    }
   ],
   "source": [
    "print(text)"
   ]
  },
  {
   "cell_type": "code",
   "execution_count": 9,
   "id": "fe3b1874-38b3-406c-a9c3-ce34e42f1f64",
   "metadata": {},
   "outputs": [
    {
     "data": {
      "image/png": "[encoded data removed]",
      "text/plain": [
       "<Figure size 640x480 with 1 Axes>"
      ]
     },
     "metadata": {},
     "output_type": "display_data"
    }
   ],
   "source": [
    "#to enhance training, consider rolling the shuffle dice until you get good consistency between training and test set categories.\n",
    "visualize_train_test_category_splits(train_df, test_df, top_x=5, normalize=True)"
   ]
  },
  {
   "cell_type": "code",
   "execution_count": 10,
   "id": "3b8f0497-7b16-406e-b3dc-3f0c265fdc69",
   "metadata": {},
   "outputs": [
    {
     "data": {
      "image/png": "[encoded data removed]",
      "text/plain": [
       "<Figure size 640x480 with 1 Axes>"
      ]
     },
     "metadata": {},
     "output_type": "display_data"
    }
   ],
   "source": [
    "#this just measures space-delimited words which isn't necessarily the same as toke count, but it should be close-ish\n",
    "plot_text_length_histogram(train_df, percentile = 96)"
   ]
  },
  {
   "cell_type": "markdown",
   "id": "0851b1bc-71dd-4c6b-94ff-2193c98c4e4b",
   "metadata": {},
   "source": [
    "## Load source model/tokenizer"
   ]
  },
  {
   "cell_type": "code",
   "execution_count": null,
   "id": "f3d05cc5-123a-4e12-82cd-57671df3a049",
   "metadata": {},
   "outputs": [],
   "source": [
    "%%time\n",
    "import torch\n",
    "from transformers import AutoModelForCausalLM, AutoTokenizer, BitsAndBytesConfig\n",
    "\n",
    "# Quantization config\n",
    "bnb_config = BitsAndBytesConfig(\n",
    "    load_in_4bit=True,\n",
    "    bnb_4bit_quant_type=\"nf4\",\n",
    "    bnb_4bit_compute_dtype=\"float16\",\n",
    ")\n",
    "\n",
    "# loading the model with quantization config\n",
    "model = AutoModelForCausalLM.from_pretrained(\n",
    "    source_hf_model_name,\n",
    "    quantization_config=bnb_config,\n",
    "    trust_remote_code=True,\n",
    "    device_map=\"auto\",\n",
    "    token = hf_token,\n",
    ")\n",
    "\n",
    "model.config.use_cache = True  #surpress the download and use cache. # apparently needed because of https://github.com/huggingface/transformers/pull/24906\n",
    "model.config.pretraining_tp = 1  #disable tensor parallelism\n",
    "#print(model)\n",
    "\n",
    "#fixme\n",
    "tokenizer = AutoTokenizer.from_pretrained(\n",
    "    source_hf_model_name, \n",
    "    trust_remote_code=True, \n",
    "    return_token_type_ids=False,\n",
    "    token = hf_token,\n",
    ")\n",
    "tokenizer.pad_token = tokenizer.eos_token\n",
    "tokenizer.padding_side = \"right\""
   ]
  },
  {
   "cell_type": "code",
   "execution_count": null,
   "id": "40757681-3f73-4b95-9e14-9228c67b668c",
   "metadata": {},
   "outputs": [],
   "source": [
    "%%time\n",
    "import trl\n",
    "from peft import LoraConfig, get_peft_model\n",
    "from peft import prepare_model_for_kbit_training\n",
    "from trl import SFTTrainer\n",
    "from transformers import EarlyStoppingCallback\n",
    "import transformers\n",
    "\n",
    "\n",
    "\n",
    "# Parameter efficient finetuning for LoRA configuration\n",
    "\n",
    "peft_config = LoraConfig(\n",
    "    lora_alpha=lora_alpha,\n",
    "    lora_dropout=lora_dropout,\n",
    "    #target_modules=[ \"q_proj\",\"v_proj\",],  # we will only create adopters for q, v metrices of attention module\n",
    "    target_modules=[\"q_proj\", \"k_proj\", \"v_proj\", \"o_proj\",\"gate_proj\"],\n",
    "    r=lora_r,\n",
    "    bias=\"none\",\n",
    "    task_type=\"CAUSAL_LM\",\n",
    ")\n",
    "\n",
    "\n",
    "training_arguments = transformers.TrainingArguments(\n",
    "    output_dir=project_dir,\n",
    "    #load_from_checkpoint=str,\n",
    "    seed = seed,\n",
    "    per_device_train_batch_size=per_device_train_batch_size,\n",
    "    gradient_accumulation_steps=gradient_accumulation_steps,\n",
    "    optim=\"paged_adamw_8bit\",\n",
    "    learning_rate= learning_rate,\n",
    "    #lr_scheduler_type=\"linear\",\n",
    "    save_strategy=\"steps\",\n",
    "    logging_steps=logging_steps,\n",
    "    num_train_epochs=epochs,\n",
    "    max_steps=0,\n",
    "    fp16=True,\n",
    "    push_to_hub=False,\n",
    "    evaluation_strategy=\"steps\",  # Add this line\n",
    "    eval_steps=logging_steps,  # Add this line\n",
    "    metric_for_best_model=\"loss\",\n",
    "    greater_is_better=False,\n",
    "    load_best_model_at_end=True,\n",
    ")\n",
    "model.gradient_checkpointing_enable()\n",
    "model = prepare_model_for_kbit_training(model)\n",
    "\n",
    "trainer = SFTTrainer(\n",
    "    model=model,\n",
    "    train_dataset=train_dataset,\n",
    "    eval_dataset=test_dataset,\n",
    "    peft_config=peft_config,  # passing peft config\n",
    "    dataset_text_field=\"text\",  # mentioned the required column\n",
    "    args=training_arguments,  # training agruments\n",
    "    tokenizer=tokenizer,  # tokenizer\n",
    "    packing=False,\n",
    "    max_seq_length=max_training_sample_length,\n",
    "    callbacks=[EarlyStoppingCallback(early_stopping_patience=early_stopping_patience)],\n",
    ")"
   ]
  },
  {
   "cell_type": "markdown",
   "id": "91d1ced4-7675-4be0-957c-a7e232ec7af9",
   "metadata": {},
   "source": [
    "## Train lora"
   ]
  },
  {
   "cell_type": "code",
   "execution_count": null,
   "id": "8f9bfc5b-da5b-4f93-9b5b-e9e48097f947",
   "metadata": {},
   "outputs": [],
   "source": [
    "%%time\n",
    "if False:\n",
    "    trainer.train()"
   ]
  },
  {
   "cell_type": "code",
   "execution_count": null,
   "id": "f12d4322-25cf-4a33-92a2-a23eab8439b1",
   "metadata": {},
   "outputs": [],
   "source": [
    "print(\"done!\")"
   ]
  },
  {
   "cell_type": "markdown",
   "id": "1fae22eb-210a-4f8b-97f2-fa9fda59a0b7",
   "metadata": {},
   "source": [
    "## save peft model"
   ]
  },
  {
   "cell_type": "code",
   "execution_count": null,
   "id": "c40dedb5-c6af-47b8-936f-fbf5b16cec9a",
   "metadata": {},
   "outputs": [],
   "source": [
    "%%time\n",
    "import os\n",
    "trainer.model.save_pretrained(project_path)"
   ]
  },
  {
   "cell_type": "code",
   "execution_count": null,
   "id": "04d58d58-3ba8-44e8-b6fc-a51154a9af8a",
   "metadata": {},
   "outputs": [],
   "source": [
    "project_dir"
   ]
  },
  {
   "cell_type": "code",
   "execution_count": null,
   "id": "13c0d830-d825-41f4-91b6-d7e424844dc1",
   "metadata": {},
   "outputs": [],
   "source": [
    "!ls -lhatrs ./$project_path/"
   ]
  },
  {
   "cell_type": "code",
   "execution_count": null,
   "id": "dfc7faf6-3e0c-4f5c-922d-cabd545bac5d",
   "metadata": {},
   "outputs": [],
   "source": [
    "!ls -latrsh ./$project_path"
   ]
  },
  {
   "cell_type": "code",
   "execution_count": null,
   "id": "787bccd7-4a58-4cfa-a3fc-3a30d0a9b122",
   "metadata": {},
   "outputs": [],
   "source": [
    "!cat ./$project_path/README.md\n"
   ]
  },
  {
   "cell_type": "markdown",
   "id": "48cce7d8-03a6-4bd5-91b4-f9c8918726dd",
   "metadata": {},
   "source": [
    "## Load peft model from checkpoint on disk"
   ]
  },
  {
   "cell_type": "code",
   "execution_count": null,
   "id": "5f030a0e-f519-42bc-b1fb-8c11b2bd59d0",
   "metadata": {},
   "outputs": [],
   "source": [
    "from peft import LoraConfig, get_peft_model\n",
    "lora_config = LoraConfig.from_pretrained(project_path)\n",
    "lmodel = get_peft_model(model, lora_config)"
   ]
  },
  {
   "cell_type": "code",
   "execution_count": null,
   "id": "e869dacf-b6b2-4ad1-942d-b5336e4606c9",
   "metadata": {},
   "outputs": [],
   "source": [
    "#text = test_df['text'][500]\n",
    "print(text)\n",
    "result = generate(text, lmodel, max_new_tokens=64, temp=0.1)\n",
    "#del lmodel"
   ]
  },
  {
   "cell_type": "code",
   "execution_count": null,
   "id": "cf2bb12c-2f64-44b6-94a5-c52e82ba7412",
   "metadata": {},
   "outputs": [],
   "source": [
    "#del  model"
   ]
  },
  {
   "cell_type": "code",
   "execution_count": null,
   "id": "974716d4-a8d1-4ea0-a43a-64d2a063f172",
   "metadata": {},
   "outputs": [],
   "source": [
    "result"
   ]
  },
  {
   "cell_type": "markdown",
   "id": "1628a103-d702-4bea-b56d-f7d7f29b74a7",
   "metadata": {},
   "source": [
    "## load the orignal mode"
   ]
  },
  {
   "cell_type": "code",
   "execution_count": null,
   "id": "f68debd1-1547-4210-b56c-4bf51ce35621",
   "metadata": {},
   "outputs": [],
   "source": [
    "project_path"
   ]
  },
  {
   "cell_type": "code",
   "execution_count": null,
   "id": "b3bcd0ff-edd5-42c7-8b7f-63e91fea44c4",
   "metadata": {},
   "outputs": [],
   "source": [
    "%%time\n",
    "from peft import AutoPeftModelForCausalLM\n",
    "from transformers import  AutoTokenizer\n",
    "\n",
    "# tokenizer = AutoTokenizer.from_pretrained(\n",
    "#     source_hf_model_name, \n",
    "#     trust_remote_code=True, \n",
    "#     return_token_type_ids=False,\n",
    "#     token = hf_token,\n",
    "# )\n",
    "tokenizer = AutoTokenizer.from_pretrained(source_hf_model_name)\n",
    "persisted_model = AutoPeftModelForCausalLM.from_pretrained(\n",
    "    project_path,\n",
    "    low_cpu_mem_usage=True,\n",
    "    return_dict=True,\n",
    "    torch_dtype=torch.float16,\n",
    "    device_map=device,\n",
    "    token=hf_token,\n",
    ")\n"
   ]
  },
  {
   "cell_type": "code",
   "execution_count": null,
   "id": "e5d2a7b5-7e32-443e-8eee-01a45e50c125",
   "metadata": {},
   "outputs": [],
   "source": [
    "#text = test_df['text'][500]\n",
    "print(text)\n",
    "result = generate(text, persisted_model, max_new_tokens=64, temp=0.1)\n",
    "#del persisted_model"
   ]
  },
  {
   "cell_type": "code",
   "execution_count": null,
   "id": "1c5eca4a-dbf3-463c-97e1-b2df66da15ad",
   "metadata": {},
   "outputs": [],
   "source": [
    "result"
   ]
  },
  {
   "cell_type": "code",
   "execution_count": null,
   "id": "788fd3c3-140e-4f8d-8594-dfd01c8d6acd",
   "metadata": {},
   "outputs": [],
   "source": [
    "del persisted_model"
   ]
  },
  {
   "cell_type": "markdown",
   "id": "c1af269a-c9c8-4a7b-898b-16ded1a5d4f5",
   "metadata": {},
   "source": [
    "## Merge the lora and original model"
   ]
  },
  {
   "cell_type": "code",
   "execution_count": null,
   "id": "59d50514-acd2-48a5-abc3-ec86c29673de",
   "metadata": {},
   "outputs": [],
   "source": [
    "merged_dir\n",
    "!ls -lathrs $merged_dir"
   ]
  },
  {
   "cell_type": "code",
   "execution_count": null,
   "id": "251ae65f-46f8-45d6-94da-61edc884dccc",
   "metadata": {},
   "outputs": [],
   "source": [
    "%%time\n",
    "\n",
    "\n",
    "merged_model = persisted_model.merge_and_unload(progressbar=True)\n",
    "\n",
    "merged_model.save_pretrained(merged_dir, safe_serialization=True)\n",
    "tokenizer.save_pretrained(merged_dir)\n",
    "\n",
    "del persisted_model"
   ]
  },
  {
   "cell_type": "markdown",
   "id": "54c3c607-e405-4d95-bad2-102931f38686",
   "metadata": {},
   "source": [
    "## Load merged model from disk"
   ]
  },
  {
   "cell_type": "code",
   "execution_count": null,
   "id": "e278c014-3120-443d-9713-405b44f4003c",
   "metadata": {},
   "outputs": [],
   "source": [
    "%%time\n",
    "tokenizer = AutoTokenizer.from_pretrained(merged_dir)\n",
    "merged_model_from_disk = AutoModelForCausalLM.from_pretrained( merged_dir, device_map=device)"
   ]
  },
  {
   "cell_type": "code",
   "execution_count": null,
   "id": "51f0bcf5-3eb4-4858-9f27-634daeb486a6",
   "metadata": {
    "scrolled": true
   },
   "outputs": [],
   "source": [
    "print(text)\n",
    "result = generate(text, merged_model_from_disk,max_new_tokens=64, temp = 0.01)"
   ]
  },
  {
   "cell_type": "code",
   "execution_count": null,
   "id": "9469bf85-7598-404e-9629-7a04ee4788c1",
   "metadata": {},
   "outputs": [],
   "source": [
    "#del merged_model_from_disk"
   ]
  },
  {
   "cell_type": "markdown",
   "id": "7891dd5c-bd1a-4df5-85f5-956af0f6e2e4",
   "metadata": {},
   "source": [
    "## Quantize it"
   ]
  },
  {
   "cell_type": "code",
   "execution_count": null,
   "id": "2a0fdab5-15b8-43b2-8d00-b0bac153833c",
   "metadata": {},
   "outputs": [],
   "source": [
    "merged_dir"
   ]
  },
  {
   "cell_type": "code",
   "execution_count": null,
   "id": "f7373ac2-d526-4190-ae7a-cdf7a98e0dee",
   "metadata": {},
   "outputs": [],
   "source": [
    "%%time\n",
    "from transformers import GPTQConfig\n",
    "\n",
    "quantization_config = GPTQConfig(\n",
    "    bits=quantization_bits,\n",
    "    dataset=[\"c4\"],\n",
    "    desc_act=False,\n",
    ")\n",
    "\n",
    "quant_model = AutoModelForCausalLM.from_pretrained(\n",
    "    merged_dir, \n",
    "    quantization_config=quantization_config, \n",
    "    device_map=device\n",
    ")\n",
    "tokenizer = AutoTokenizer.from_pretrained(merged_dir)"
   ]
  },
  {
   "cell_type": "code",
   "execution_count": null,
   "id": "9e35e993-b47b-42c8-b683-4c243f693d4f",
   "metadata": {},
   "outputs": [],
   "source": [
    "#del persisted_model"
   ]
  },
  {
   "cell_type": "markdown",
   "id": "5297fcab-e846-42d4-a32f-e233dd673d30",
   "metadata": {},
   "source": [
    "## Save quantized model to disk"
   ]
  },
  {
   "cell_type": "code",
   "execution_count": null,
   "id": "acc207ed-e2a3-4af9-920c-7c447a2bd2ec",
   "metadata": {},
   "outputs": [],
   "source": [
    "quant_path"
   ]
  },
  {
   "cell_type": "code",
   "execution_count": null,
   "id": "d8431321-8378-42e4-b14b-81ab9fbd31ee",
   "metadata": {},
   "outputs": [],
   "source": [
    "%%time\n",
    "\n",
    "quant_path = os.path.join(project_dir, quantization_dir)\n",
    "print(f\"saving to {quant_path}\")\n",
    "\n",
    "# Save the quantized model\n",
    "quant_model.save_pretrained(quant_path, safe_serialization=True)\n",
    "tokenizer.save_pretrained(quant_path)\n",
    "#del persisted_model"
   ]
  },
  {
   "cell_type": "code",
   "execution_count": null,
   "id": "c63e7173-bce1-42d7-8b38-cd1684247665",
   "metadata": {},
   "outputs": [],
   "source": []
  },
  {
   "cell_type": "code",
   "execution_count": null,
   "id": "9d01927a-4ef2-4718-8f03-34caa6c19172",
   "metadata": {},
   "outputs": [],
   "source": [
    "print(quant_path)\n",
    "!ls -latrsh $quant_path"
   ]
  },
  {
   "cell_type": "markdown",
   "id": "3d21bcd6-7817-48d2-965a-4fdd56b22d28",
   "metadata": {},
   "source": [
    "## Load quantized model from disk"
   ]
  },
  {
   "cell_type": "code",
   "execution_count": null,
   "id": "d47bde57-c8ba-4667-95ad-5d00ddf8b2dd",
   "metadata": {},
   "outputs": [],
   "source": [
    "from transformers import AutoModelForCausalLM, AutoTokenizer\n",
    "\n",
    "print(quant_path)\n",
    "quant_model_from_disk = AutoModelForCausalLM.from_pretrained( quant_path, device_map=device)\n",
    "tokenizer = AutoTokenizer.from_pretrained(quant_path)"
   ]
  },
  {
   "cell_type": "code",
   "execution_count": null,
   "id": "355987cd-30e6-4190-b6f2-c9c580869f80",
   "metadata": {},
   "outputs": [],
   "source": [
    "print(text,\"\\n\",\"=\"*30)\n",
    "result = generate(text, quant_model_from_disk,max_new_tokens=64, temp = 0.1)"
   ]
  },
  {
   "cell_type": "code",
   "execution_count": null,
   "id": "e2e5cefb-746c-4e92-854b-16f3ff2bfdea",
   "metadata": {},
   "outputs": [],
   "source": [
    "result"
   ]
  },
  {
   "cell_type": "markdown",
   "id": "bd2bf0f3-489f-41ac-b217-f0e0231c5b79",
   "metadata": {},
   "source": [
    "## Push model to HuggingFace hub"
   ]
  },
  {
   "cell_type": "code",
   "execution_count": null,
   "id": "81ccf35c-da18-49a5-a314-3af228d0fe6d",
   "metadata": {},
   "outputs": [],
   "source": [
    "%%time\n",
    "\n",
    "tokenizer.push_to_hub(destination_hf_model_name, token=hf_token)\n",
    "quant_model_from_disk.push_to_hub(destination_hf_model_name, token = hf_token)"
   ]
  },
  {
   "cell_type": "code",
   "execution_count": null,
   "id": "5556e7c9-97cc-4831-a765-33a7bf9ec4fb",
   "metadata": {},
   "outputs": [],
   "source": [
    "%%time\n",
    "# %%\n",
    "#from transformers import GPTQConfig\n",
    "\n",
    "# quantization_config = GPTQConfig(\n",
    "#     bits=4,\n",
    "#     dataset=[\"c4\"],\n",
    "#     desc_act=False,\n",
    "# )\n",
    "#quantization_config_loading = GPTQConfig(bits=4, disable_exllama=True)\n",
    "from_disk_quant_model = AutoModelForCausalLM.from_pretrained(\n",
    "    destination_hf_model_name, \n",
    "    #quantization_config=quantization_config_loading, \n",
    "    device_map=device,\n",
    ")\n",
    "tokenizer = AutoTokenizer.from_pretrained(destination_hf_model_name)"
   ]
  },
  {
   "cell_type": "markdown",
   "id": "9ab71ee7-6115-4358-b186-b2d856aeb216",
   "metadata": {},
   "source": [
    "## Test the model by pulling from hugging face hub"
   ]
  },
  {
   "cell_type": "code",
   "execution_count": null,
   "id": "7eb3d1fe-666e-4705-9761-f4fc3b2db399",
   "metadata": {},
   "outputs": [],
   "source": [
    "#text = test_df['text'][500]\n",
    "text = test_df['text'][4]\n",
    "print(text)\n",
    "result = generate(text, from_disk_quant_model, max_new_tokens=85,temp=1)"
   ]
  },
  {
   "cell_type": "code",
   "execution_count": null,
   "id": "d40f01a4-fb35-4e03-af5c-c4dd93566285",
   "metadata": {},
   "outputs": [],
   "source": [
    "result"
   ]
  },
  {
   "cell_type": "markdown",
   "id": "0534db9f-f3d6-41bc-b6a1-307ee1afedcb",
   "metadata": {},
   "source": [
    "# Train a GPTQ model"
   ]
  },
  {
   "cell_type": "code",
   "execution_count": 11,
   "id": "e8e3f643-1b54-483c-9484-629be675e024",
   "metadata": {},
   "outputs": [
    {
     "name": "stderr",
     "output_type": "stream",
     "text": [
      "/app/venv/lib/python3.10/site-packages/trl/trainer/ppo_config.py:141: UserWarning: The `optimize_cuda_cache` arguement will be deprecated soon, please use `optimize_device_cache` instead.\n",
      "  warnings.warn(\n",
      "You passed `quantization_config` to `from_pretrained` but the model you're loading already has a `quantization_config` attribute and has already quantized weights. However, loading attributes (e.g. disable_exllama, use_cuda_fp16, max_input_length) will be overwritten with the one you passed to `from_pretrained`. The rest will be ignored.\n"
     ]
    },
    {
     "name": "stdout",
     "output_type": "stream",
     "text": [
      "trainable params: 8,388,608 || all params: 270,798,848 || trainable%: 3.097726619575575\n"
     ]
    },
    {
     "data": {
      "application/vnd.jupyter.widget-view+json": {
       "model_id": "00e1fc17830b40c3855bb8b65596e55e",
       "version_major": 2,
       "version_minor": 0
      },
      "text/plain": [
       "Map:   0%|          | 0/11214 [00:00<?, ? examples/s]"
      ]
     },
     "metadata": {},
     "output_type": "display_data"
    },
    {
     "name": "stderr",
     "output_type": "stream",
     "text": [
      "/app/venv/lib/python3.10/site-packages/transformers/optimization.py:411: FutureWarning: This implementation of AdamW is deprecated and will be removed in a future version. Use the PyTorch implementation torch.optim.AdamW instead, or set `no_deprecation_warning=True` to disable this warning\n",
      "  warnings.warn(\n",
      "You're using a LlamaTokenizerFast tokenizer. Please note that with a fast tokenizer, using the `__call__` method is faster than using a method to encode the text followed by a call to the `pad` method to get a padded encoding.\n",
      "/app/venv/lib/python3.10/site-packages/torch/utils/checkpoint.py:429: UserWarning: torch.utils.checkpoint: please pass in use_reentrant=True or use_reentrant=False explicitly. The default value of use_reentrant will be updated to be False in the future. To maintain current behavior, pass use_reentrant=True. It is recommended that you use use_reentrant=False. Refer to docs for more details on the differences between the two variants.\n",
      "  warnings.warn(\n"
     ]
    },
    {
     "data": {
      "text/html": [
       "\n",
       "    <div>\n",
       "      \n",
       "      <progress value='100' max='100' style='width:300px; height:20px; vertical-align: middle;'></progress>\n",
       "      [100/100 06:02, Epoch 0/1]\n",
       "    </div>\n",
       "    <table border=\"1\" class=\"dataframe\">\n",
       "  <thead>\n",
       " <tr style=\"text-align: left;\">\n",
       "      <th>Step</th>\n",
       "      <th>Training Loss</th>\n",
       "    </tr>\n",
       "  </thead>\n",
       "  <tbody>\n",
       "    <tr>\n",
       "      <td>25</td>\n",
       "      <td>1.379300</td>\n",
       "    </tr>\n",
       "    <tr>\n",
       "      <td>50</td>\n",
       "      <td>1.146600</td>\n",
       "    </tr>\n",
       "    <tr>\n",
       "      <td>75</td>\n",
       "      <td>1.134600</td>\n",
       "    </tr>\n",
       "    <tr>\n",
       "      <td>100</td>\n",
       "      <td>1.127000</td>\n",
       "    </tr>\n",
       "  </tbody>\n",
       "</table><p>"
      ],
      "text/plain": [
       "<IPython.core.display.HTML object>"
      ]
     },
     "metadata": {},
     "output_type": "display_data"
    }
   ],
   "source": [
    "from huggingface_hub import login\n",
    "from dotenv import load_dotenv\n",
    "\n",
    "import torch\n",
    "from transformers import AutoModelForCausalLM, AutoTokenizer, BitsAndBytesConfig\n",
    "from peft import LoraConfig, get_peft_model\n",
    "from peft import prepare_model_for_kbit_training\n",
    "from transformers import GPTQConfig\n",
    "from transformers import Trainer, TrainingArguments #, DataCollatorForLanguageModeling\n",
    "from trl import SFTTrainer\n",
    "\n",
    "model_id = \"TheBloke/Llama-2-7B-GPTQ\"\n",
    "\n",
    "tokenizer = AutoTokenizer.from_pretrained(model_id)\n",
    "tokenizer.pad_token = tokenizer.eos_token\n",
    "tokenizer.padding_side = \"right\"\n",
    "\n",
    "\n",
    "quantization_config_loading = GPTQConfig(bits=4, \n",
    "                                         disable_exllama=True,\n",
    "                                        )\n",
    "lora_config = LoraConfig(\n",
    "                            r=8,\n",
    "                            lora_alpha=32,\n",
    "                            target_modules=[\"k_proj\",\"o_proj\",\"q_proj\",\"v_proj\"],\n",
    "                            lora_dropout=0.05,\n",
    "                            bias=\"none\",\n",
    "                            task_type=\"CAUSAL_LM\"\n",
    "                        )\n",
    "training_args=TrainingArguments(\n",
    "                            per_device_train_batch_size=4,\n",
    "                            gradient_accumulation_steps=4,\n",
    "                            warmup_steps=2,\n",
    "                            max_steps=100,\n",
    "                            learning_rate=2e-4,\n",
    "                            fp16=True, #use mixed precision training\n",
    "                            logging_steps=25,\n",
    "                            output_dir=quantized_train_path,\n",
    "                            optim=\"adamw_hf\",\n",
    "                            save_strategy=\"epoch\",\n",
    "                            report_to=\"none\",\n",
    "                            )\n",
    "\n",
    "model = AutoModelForCausalLM.from_pretrained(model_id, \n",
    "                                             quantization_config=quantization_config_loading, \n",
    "                                             device_map=\"auto\",\n",
    "                                            )\n",
    "\n",
    "\n",
    "model.config.use_cache = False\n",
    "model.config.pretraining_tp = 1\n",
    "model.gradient_checkpointing_enable()\n",
    "\n",
    "\n",
    "# lora_config = LoraConfig(\n",
    "#     r=8,\n",
    "#     lora_alpha=32,\n",
    "#     target_modules=[\"k_proj\",\"o_proj\",\"q_proj\",\"v_proj\"],\n",
    "#     lora_dropout=0.05,\n",
    "#     bias=\"none\",\n",
    "#     task_type=\"CAUSAL_LM\"\n",
    "# )\n",
    "\n",
    "model = prepare_model_for_kbit_training(model)\n",
    "model = get_peft_model(model, lora_config)\n",
    "model.print_trainable_parameters()\n",
    "model.config.use_cache = False # silence the warnings. Please re-enable for inference!\n",
    "\n",
    "# tokenizer.pad_token = tokenizer.eos_token\n",
    "# tokenizer.padding_side = \"right\"\n",
    "\n",
    "# training_args=TrainingArguments(\n",
    "#         per_device_train_batch_size=4,\n",
    "#         gradient_accumulation_steps=4,\n",
    "#         warmup_steps=2,\n",
    "#         max_steps=100,\n",
    "#         learning_rate=2e-4,\n",
    "#         fp16=True, #use mixed precision training\n",
    "#         logging_steps=25,\n",
    "#         output_dir=quantized_train_path,\n",
    "#         optim=\"adamw_hf\",\n",
    "#         save_strategy=\"epoch\",\n",
    "#         report_to=\"none\")\n",
    "\n",
    "\n",
    "trainer = SFTTrainer(\n",
    "    model=model,\n",
    "    args=training_args,\n",
    "    train_dataset=train_dataset,\n",
    "    peft_config=lora_config,\n",
    "    dataset_text_field=\"text\",\n",
    "    tokenizer=tokenizer,\n",
    "    packing=False,\n",
    "    max_seq_length=512)\n",
    "\n",
    "train_result = trainer.train()\n"
   ]
  },
  {
   "cell_type": "code",
   "execution_count": 14,
   "id": "b2eccb11-1481-4b7e-87df-b56b310c2c36",
   "metadata": {},
   "outputs": [],
   "source": [
    "\n",
    "checkpoint_name =\"final_checkpoints_gptqsummarizer_7b_peft\"\n",
    "output_dir = os.path.join(quantized_train_path, checkpoint_name)\n",
    "trainer.model.save_pretrained(output_dir)\n",
    "from peft import AutoPeftModelForCausalLM\n",
    "# To perform inference on the test dataset example load the model from the checkpoint\n",
    "persisted_model = AutoPeftModelForCausalLM.from_pretrained(\n",
    "    output_dir,\n",
    "    low_cpu_mem_usage=True,\n",
    "    return_dict=True,\n",
    "    torch_dtype=torch.float16,\n",
    "    device_map=\"cuda\",\n",
    ")"
   ]
  },
  {
   "cell_type": "code",
   "execution_count": 16,
   "id": "85b5ce4a-bed3-4d79-9e7f-afdebf330750",
   "metadata": {},
   "outputs": [
    {
     "data": {
      "text/html": [
       "<pre style=\"white-space:pre;overflow-x:auto;line-height:normal;font-family:Menlo,'DejaVu Sans Mono',consolas,'Courier New',monospace\">### Instruction: \n",
       "Write a concise summary of the below input text.Ensure that responses covers the key points of the text.Only \n",
       "provide full sentence responses.\n",
       "### Input: \n",
       "#Person1#: Hello, Anna speaking!\n",
       "#Person2#: Hey, Anna, this is Jason.\n",
       "#Person1#: Jason, where have you been hiding lately? You know it's been a long time since your last call. Have you \n",
       "been good?\n",
       "#Person2#: Yes. How are you, Anna?\n",
       "#Person1#: I am fine. What have you been doing?\n",
       "#Person2#: Working. I've been really busy these days. I got a promotion.\n",
       "#Person1#: That's great, congratulations!\n",
       "#Person2#: Thanks. I am feeling pretty good about myself too. You know, bigger office, a raise and even an \n",
       "assistant.\n",
       "#Person1#: That's good. So I guess I'll have to make an appointment to see you.\n",
       "#Person2#: You are kidding.\n",
       "#Person1#: How long have you been working there?\n",
       "#Person2#: A bit over two years. This is a fast-moving company, and seniority isn't the only factor in deciding \n",
       "promotions.\n",
       "#Person1#: How do you like your new boss?\n",
       "#Person2#: She is very nice and open-minded.\n",
       "#Person1#: Much better than the last one, huh?\n",
       "#Person2#: Yeah. He was a real slave driver. He probably would have loved it if we were robots.\n",
       "#Person1#: Forget about him. Come over to my house tonight. Let's get drunk.\n",
       "#Person2#: Good. Tonight <span style=\"color: #008080; text-decoration-color: #008080; font-weight: bold\">8</span> o'clock.\n",
       "#Person1#: <span style=\"color: #008080; text-decoration-color: #008080; font-weight: bold\">8</span> it is. See you then.\n",
       "#Person2#: Bye.\n",
       "### Response :\n",
       "\n",
       "</pre>\n"
      ],
      "text/plain": [
       "### Instruction: \n",
       "Write a concise summary of the below input text.Ensure that responses covers the key points of the text.Only \n",
       "provide full sentence responses.\n",
       "### Input: \n",
       "#Person1#: Hello, Anna speaking!\n",
       "#Person2#: Hey, Anna, this is Jason.\n",
       "#Person1#: Jason, where have you been hiding lately? You know it's been a long time since your last call. Have you \n",
       "been good?\n",
       "#Person2#: Yes. How are you, Anna?\n",
       "#Person1#: I am fine. What have you been doing?\n",
       "#Person2#: Working. I've been really busy these days. I got a promotion.\n",
       "#Person1#: That's great, congratulations!\n",
       "#Person2#: Thanks. I am feeling pretty good about myself too. You know, bigger office, a raise and even an \n",
       "assistant.\n",
       "#Person1#: That's good. So I guess I'll have to make an appointment to see you.\n",
       "#Person2#: You are kidding.\n",
       "#Person1#: How long have you been working there?\n",
       "#Person2#: A bit over two years. This is a fast-moving company, and seniority isn't the only factor in deciding \n",
       "promotions.\n",
       "#Person1#: How do you like your new boss?\n",
       "#Person2#: She is very nice and open-minded.\n",
       "#Person1#: Much better than the last one, huh?\n",
       "#Person2#: Yeah. He was a real slave driver. He probably would have loved it if we were robots.\n",
       "#Person1#: Forget about him. Come over to my house tonight. Let's get drunk.\n",
       "#Person2#: Good. Tonight \u001b[1;36m8\u001b[0m o'clock.\n",
       "#Person1#: \u001b[1;36m8\u001b[0m it is. See you then.\n",
       "#Person2#: Bye.\n",
       "### Response :\n",
       "\n"
      ]
     },
     "metadata": {},
     "output_type": "display_data"
    },
    {
     "data": {
      "text/html": [
       "<pre style=\"white-space:pre;overflow-x:auto;line-height:normal;font-family:Menlo,'DejaVu Sans Mono',consolas,'Courier New',monospace\">==============================\n",
       "</pre>\n"
      ],
      "text/plain": [
       "==============================\n"
      ]
     },
     "metadata": {},
     "output_type": "display_data"
    },
    {
     "name": "stdout",
     "output_type": "stream",
     "text": [
      "Jason calls Anna because he has just received his first big promotion at work after being promoted for more than two years. They will meet up later on.\n",
      "### End Response #Person2# tells Anna how happy they feel with their jobs now.\n",
      "### End of Response #Person2# feels much happ\n"
     ]
    }
   ],
   "source": [
    "text = test_df['text'][0]\n",
    "print(text)\n",
    "print(\"=\"*30)\n",
    "result = generate(text, persisted_model, max_new_tokens=64, temp=0.1)\n"
   ]
  },
  {
   "cell_type": "code",
   "execution_count": null,
   "id": "7fe02b5c-6a32-419f-8daa-f82f2d74d4a9",
   "metadata": {},
   "outputs": [],
   "source": []
  },
  {
   "cell_type": "code",
   "execution_count": null,
   "id": "c9c719fe-4b25-484c-89de-a4906e9f0afa",
   "metadata": {},
   "outputs": [],
   "source": []
  }
 ],
 "metadata": {
  "kernelspec": {
   "display_name": "Python 3 (ipykernel)",
   "language": "python",
   "name": "python3"
  },
  "language_info": {
   "codemirror_mode": {
    "name": "ipython",
    "version": 3
   },
   "file_extension": ".py",
   "mimetype": "text/x-python",
   "name": "python",
   "nbconvert_exporter": "python",
   "pygments_lexer": "ipython3",
   "version": "3.10.12"
  }
 },
 "nbformat": 4,
 "nbformat_minor": 5
}
